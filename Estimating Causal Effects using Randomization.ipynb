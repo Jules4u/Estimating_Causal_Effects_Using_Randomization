{
 "cells": [
  {
   "cell_type": "code",
   "execution_count": 17,
   "id": "3af2202c-886a-4c1b-97e1-8e60079ab4f8",
   "metadata": {},
   "outputs": [
    {
     "data": {
      "text/html": [
       "<div>\n",
       "<style scoped>\n",
       "    .dataframe tbody tr th:only-of-type {\n",
       "        vertical-align: middle;\n",
       "    }\n",
       "\n",
       "    .dataframe tbody tr th {\n",
       "        vertical-align: top;\n",
       "    }\n",
       "\n",
       "    .dataframe thead th {\n",
       "        text-align: right;\n",
       "    }\n",
       "</style>\n",
       "<table border=\"1\" class=\"dataframe\">\n",
       "  <thead>\n",
       "    <tr style=\"text-align: right;\">\n",
       "      <th></th>\n",
       "      <th>id</th>\n",
       "      <th>treatment</th>\n",
       "      <th>pre_earnings</th>\n",
       "      <th>post_earnings</th>\n",
       "    </tr>\n",
       "  </thead>\n",
       "  <tbody>\n",
       "    <tr>\n",
       "      <th>0</th>\n",
       "      <td>1</td>\n",
       "      <td>0</td>\n",
       "      <td>47794.61771</td>\n",
       "      <td>46260.52957</td>\n",
       "    </tr>\n",
       "    <tr>\n",
       "      <th>1</th>\n",
       "      <td>2</td>\n",
       "      <td>1</td>\n",
       "      <td>42669.67004</td>\n",
       "      <td>41214.43663</td>\n",
       "    </tr>\n",
       "    <tr>\n",
       "      <th>2</th>\n",
       "      <td>3</td>\n",
       "      <td>1</td>\n",
       "      <td>46571.21138</td>\n",
       "      <td>61175.58348</td>\n",
       "    </tr>\n",
       "    <tr>\n",
       "      <th>3</th>\n",
       "      <td>4</td>\n",
       "      <td>1</td>\n",
       "      <td>40048.51518</td>\n",
       "      <td>47712.55661</td>\n",
       "    </tr>\n",
       "    <tr>\n",
       "      <th>4</th>\n",
       "      <td>5</td>\n",
       "      <td>0</td>\n",
       "      <td>73079.16251</td>\n",
       "      <td>65406.00875</td>\n",
       "    </tr>\n",
       "  </tbody>\n",
       "</table>\n",
       "</div>"
      ],
      "text/plain": [
       "   id  treatment  pre_earnings  post_earnings\n",
       "0   1          0   47794.61771    46260.52957\n",
       "1   2          1   42669.67004    41214.43663\n",
       "2   3          1   46571.21138    61175.58348\n",
       "3   4          1   40048.51518    47712.55661\n",
       "4   5          0   73079.16251    65406.00875"
      ]
     },
     "execution_count": 17,
     "metadata": {},
     "output_type": "execute_result"
    }
   ],
   "source": [
    "import pandas as pd\n",
    "import numpy as np\n",
    "import matplotlib.pyplot as plt\n",
    "import scipy.stats\n",
    "import statsmodels.api as sm\n",
    "import statsmodels.formula.api as smf\n",
    "training = pd.read_csv('training_program.csv', index_col=0)\n",
    "training.reset_index(inplace=True)\n",
    "training.head()\n"
   ]
  },
  {
   "cell_type": "code",
   "execution_count": 11,
   "id": "a2a8753a-1db0-4601-854f-8f70971507c7",
   "metadata": {},
   "outputs": [
    {
     "data": {
      "text/html": [
       "<div>\n",
       "<style scoped>\n",
       "    .dataframe tbody tr th:only-of-type {\n",
       "        vertical-align: middle;\n",
       "    }\n",
       "\n",
       "    .dataframe tbody tr th {\n",
       "        vertical-align: top;\n",
       "    }\n",
       "\n",
       "    .dataframe thead th {\n",
       "        text-align: right;\n",
       "    }\n",
       "</style>\n",
       "<table border=\"1\" class=\"dataframe\">\n",
       "  <thead>\n",
       "    <tr style=\"text-align: right;\">\n",
       "      <th></th>\n",
       "      <th>id</th>\n",
       "      <th>treatment</th>\n",
       "      <th>pre_earnings</th>\n",
       "      <th>post_earnings</th>\n",
       "    </tr>\n",
       "  </thead>\n",
       "  <tbody>\n",
       "    <tr>\n",
       "      <th>count</th>\n",
       "      <td>3000.000000</td>\n",
       "      <td>3000.000000</td>\n",
       "      <td>3000.000000</td>\n",
       "      <td>3000.000000</td>\n",
       "    </tr>\n",
       "    <tr>\n",
       "      <th>mean</th>\n",
       "      <td>1500.500000</td>\n",
       "      <td>0.505000</td>\n",
       "      <td>49800.915453</td>\n",
       "      <td>52302.910043</td>\n",
       "    </tr>\n",
       "    <tr>\n",
       "      <th>std</th>\n",
       "      <td>866.169729</td>\n",
       "      <td>0.500058</td>\n",
       "      <td>10004.657996</td>\n",
       "      <td>11500.918651</td>\n",
       "    </tr>\n",
       "    <tr>\n",
       "      <th>min</th>\n",
       "      <td>1.000000</td>\n",
       "      <td>0.000000</td>\n",
       "      <td>18232.961870</td>\n",
       "      <td>9992.943974</td>\n",
       "    </tr>\n",
       "    <tr>\n",
       "      <th>25%</th>\n",
       "      <td>750.750000</td>\n",
       "      <td>0.000000</td>\n",
       "      <td>42923.028435</td>\n",
       "      <td>44558.604222</td>\n",
       "    </tr>\n",
       "    <tr>\n",
       "      <th>50%</th>\n",
       "      <td>1500.500000</td>\n",
       "      <td>1.000000</td>\n",
       "      <td>49878.016805</td>\n",
       "      <td>52275.248370</td>\n",
       "    </tr>\n",
       "    <tr>\n",
       "      <th>75%</th>\n",
       "      <td>2250.250000</td>\n",
       "      <td>1.000000</td>\n",
       "      <td>56517.180313</td>\n",
       "      <td>60112.130660</td>\n",
       "    </tr>\n",
       "    <tr>\n",
       "      <th>max</th>\n",
       "      <td>3000.000000</td>\n",
       "      <td>1.000000</td>\n",
       "      <td>89262.377060</td>\n",
       "      <td>91723.962690</td>\n",
       "    </tr>\n",
       "  </tbody>\n",
       "</table>\n",
       "</div>"
      ],
      "text/plain": [
       "                id    treatment  pre_earnings  post_earnings\n",
       "count  3000.000000  3000.000000   3000.000000    3000.000000\n",
       "mean   1500.500000     0.505000  49800.915453   52302.910043\n",
       "std     866.169729     0.500058  10004.657996   11500.918651\n",
       "min       1.000000     0.000000  18232.961870    9992.943974\n",
       "25%     750.750000     0.000000  42923.028435   44558.604222\n",
       "50%    1500.500000     1.000000  49878.016805   52275.248370\n",
       "75%    2250.250000     1.000000  56517.180313   60112.130660\n",
       "max    3000.000000     1.000000  89262.377060   91723.962690"
      ]
     },
     "execution_count": 11,
     "metadata": {},
     "output_type": "execute_result"
    }
   ],
   "source": [
    "training.describe()"
   ]
  },
  {
   "cell_type": "code",
   "execution_count": 12,
   "id": "4c1d1e91-e44d-4ba4-8fe7-e66f290bb83a",
   "metadata": {},
   "outputs": [
    {
     "name": "stdout",
     "output_type": "stream",
     "text": [
      "TtestResult(statistic=np.float64(0.851181643223146), pvalue=np.float64(0.39473651779617136), df=np.float64(2994.4830489592364))\n"
     ]
    }
   ],
   "source": [
    "treatment = training[training['treatment']==1]\n",
    "control = training[training['treatment']==0]\n",
    "pre_earns_result = scipy.stats.ttest_ind(treatment['pre_earnings'], control['pre_earnings'], equal_var=False)\n",
    "print(pre_earns_result)"
   ]
  },
  {
   "cell_type": "code",
   "execution_count": 13,
   "id": "1e1b5492-e647-4801-9028-45153f0385d7",
   "metadata": {},
   "outputs": [
    {
     "data": {
      "text/plain": [
       "np.float64(5226.740973481668)"
      ]
     },
     "execution_count": 13,
     "metadata": {},
     "output_type": "execute_result"
    }
   ],
   "source": [
    "(np.mean(treatment['post_earnings']) - np.mean(control['pre_earnings'])) - (np.mean(control['post_earnings']) - np.mean(control['pre_earnings']))"
   ]
  },
  {
   "cell_type": "code",
   "execution_count": 14,
   "id": "28fead8f-cba4-4100-9ed1-0e03d05c7a75",
   "metadata": {},
   "outputs": [
    {
     "name": "stdout",
     "output_type": "stream",
     "text": [
      "                            OLS Regression Results                            \n",
      "==============================================================================\n",
      "Dep. Variable:          post_earnings   R-squared:                       0.052\n",
      "Model:                            OLS   Adj. R-squared:                  0.051\n",
      "Method:                 Least Squares   F-statistic:                     163.3\n",
      "Date:                Sat, 04 Jan 2025   Prob (F-statistic):           1.92e-36\n",
      "Time:                        22:05:23   Log-Likelihood:                -32227.\n",
      "No. Observations:                3000   AIC:                         6.446e+04\n",
      "Df Residuals:                    2998   BIC:                         6.447e+04\n",
      "Df Model:                           1                                         \n",
      "Covariance Type:            nonrobust                                         \n",
      "==============================================================================\n",
      "                 coef    std err          t      P>|t|      [0.025      0.975]\n",
      "------------------------------------------------------------------------------\n",
      "Intercept   4.966e+04    290.688    170.848      0.000    4.91e+04    5.02e+04\n",
      "treatment   5226.7410    409.055     12.778      0.000    4424.685    6028.797\n",
      "==============================================================================\n",
      "Omnibus:                        1.611   Durbin-Watson:                   1.999\n",
      "Prob(Omnibus):                  0.447   Jarque-Bera (JB):                1.540\n",
      "Skew:                          -0.041   Prob(JB):                        0.463\n",
      "Kurtosis:                       3.075   Cond. No.                         2.63\n",
      "==============================================================================\n",
      "\n",
      "Notes:\n",
      "[1] Standard Errors assume that the covariance matrix of the errors is correctly specified.\n"
     ]
    }
   ],
   "source": [
    "dif_results = smf.ols('post_earnings ~ treatment', data = training).fit()\n",
    "print(dif_results.summary())"
   ]
  },
  {
   "cell_type": "code",
   "execution_count": 11,
   "id": "ab70742e-8d92-47b2-9bc5-382514fe5653",
   "metadata": {},
   "outputs": [
    {
     "data": {
      "text/plain": [
       "'Conclusion: The ttest results return a pvalue greater than alpha of .05, thus we fail to reject hypothesis and can assume no difference between pre-experiment earnings of the treatment and control group. A mean difference in difference of post earnings revealed that the treatment group had an increase in earnings of $5226.74 relative to the control group, this finding is confirmed with a regression analysis ran with post earnings as dependent variable and treatment as independent variable that returns a coefficient on treatment of 5226.741. /n.'"
      ]
     },
     "execution_count": 11,
     "metadata": {},
     "output_type": "execute_result"
    }
   ],
   "source": [
    "\n",
    "'Conclusion: The ttest results return a pvalue greater than alpha of .05, thus we fail to reject hypothesis and can assume no difference between pre-experiment earnings of the treatment and control group. A mean difference in difference of post earnings revealed that the treatment group had an increase in earnings of $5226.74 relative to the control group, this finding is confirmed with a regression analysis ran with post earnings as dependent variable and treatment as independent variable that returns a coefficient on treatment of 5226.741. /n.'"
   ]
  },
  {
   "cell_type": "code",
   "execution_count": null,
   "id": "9494c497-4346-4130-a834-8f5f6e518119",
   "metadata": {},
   "outputs": [],
   "source": []
  }
 ],
 "metadata": {
  "kernelspec": {
   "display_name": "Python 3 (ipykernel)",
   "language": "python",
   "name": "python3"
  },
  "language_info": {
   "codemirror_mode": {
    "name": "ipython",
    "version": 3
   },
   "file_extension": ".py",
   "mimetype": "text/x-python",
   "name": "python",
   "nbconvert_exporter": "python",
   "pygments_lexer": "ipython3",
   "version": "3.11.4"
  }
 },
 "nbformat": 4,
 "nbformat_minor": 5
}
